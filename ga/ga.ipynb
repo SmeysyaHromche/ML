{
 "cells": [
  {
   "cell_type": "markdown",
   "metadata": {},
   "source": [
    "### Genetics algorithms"
   ]
  },
  {
   "cell_type": "code",
   "execution_count": 79,
   "metadata": {},
   "outputs": [],
   "source": [
    "# importer\n",
    "import random\n",
    "from typing import List, Tuple, Callable"
   ]
  },
  {
   "cell_type": "markdown",
   "metadata": {},
   "source": [
    "### Individ of population"
   ]
  },
  {
   "cell_type": "code",
   "execution_count": 80,
   "metadata": {},
   "outputs": [],
   "source": [
    "class Man():\n",
    "    def __init__(self, iq:int, strong:int, high:int):\n",
    "        self.iq = iq\n",
    "        self.strong = strong\n",
    "        self.high = high\n",
    "    \n",
    "\n",
    "    def __str__(self) -> str:\n",
    "        return f\"IQ:{self.iq}; strong:{self.strong}; high: {self.high}\"\n",
    "    \n",
    "    def __len__(self)->int:\n",
    "        return 3\n",
    "    "
   ]
  },
  {
   "cell_type": "code",
   "execution_count": 81,
   "metadata": {},
   "outputs": [],
   "source": [
    "### Evaluation details"
   ]
  },
  {
   "cell_type": "code",
   "execution_count": 82,
   "metadata": {},
   "outputs": [],
   "source": [
    "def fit(individ:Man, trg:Man)->float:\n",
    "    return 1 / (abs(individ.iq-trg.iq)+abs(individ.high-trg.high)+abs(individ.strong-individ.strong))\n",
    "\n",
    "def create_population(cnt:int)->List[Man]:\n",
    "    return [Man(random.randint(70, 200), random.randint(20, 100), random.randint(150, 200)) for _ in range(cnt)]\n",
    "\n",
    "def mutation(individ:Man)->Man:\n",
    "    if random.random() < 0.2:\n",
    "        gen = random.randint(0,len(individ)-1)\n",
    "        if gen == 0:\n",
    "            individ.iq = random.randint(70, 200)\n",
    "        elif gen == 1:\n",
    "            individ.strong = random.randint(150, 200)\n",
    "        else:\n",
    "            individ.high = random.randint(150, 200)\n",
    "    return individ\n",
    "\n",
    "def tourn_selecetion(population:List[Man], fit_function:Callable, trg:Man)->Tuple[Man, Man]:\n",
    "    selected = random.choices(population, k=4)\n",
    "    sorted_population = selected.copy()\n",
    "    sorted_population.sort(key=lambda x: fit_function(x, trg), reverse=True)\n",
    "    return selected[0], selected[1]\n",
    "\n",
    "def crossover(parent1:Man, parent2:Man)->Man:\n",
    "    def give_parent(index:int):\n",
    "        return parent1 if index == 0 else parent2\n",
    "    childs = []\n",
    "    for _ in range(2):\n",
    "        iq = give_parent(random.randint(0, 1)).iq\n",
    "        strong = give_parent(random.randint(0, 1)).strong\n",
    "        high = give_parent(random.randint(0, 1)).high\n",
    "        childs.append(Man(iq, strong, high))\n",
    "    return childs[0],childs[1]  \n",
    "        "
   ]
  },
  {
   "cell_type": "markdown",
   "metadata": {},
   "source": [
    "### Evaluation"
   ]
  },
  {
   "cell_type": "code",
   "execution_count": 83,
   "metadata": {},
   "outputs": [],
   "source": [
    "class Evalution():\n",
    "    def __init__(self,cnt_population:int, mutation:Callable, generecions:int, trg:object, create_population:Callable, selection:Callable, crossover:Callable, fit:Callable) -> None:\n",
    "        self.mutation = mutation\n",
    "        self.generecions = generecions\n",
    "        self.create_population = create_population\n",
    "        self.selection = selection\n",
    "        self.crossover = crossover\n",
    "        self.trg = trg\n",
    "        self.fit = fit\n",
    "        self.cnt_population = cnt_population\n",
    "\n",
    "    def run(self)->Man:\n",
    "        # 1. create population\n",
    "        population = self.create_population(self.cnt_population)\n",
    "        for generacion in range(self.generecions):\n",
    "            fits = 0.0\n",
    "            pop_copy = population.copy()\n",
    "            pop_copy.sort(key=lambda x: self.fit(x, self.trg), reverse=True)\n",
    "            print(f'generacion {generacion} best individ: {pop_copy[0]}')#.sort(key=lambda x: self.fit(x, self.trg), reverse=True)[0]\n",
    "            # 3. selection\n",
    "            new_population = []\n",
    "            while len(new_population) < len(population):\n",
    "                parent1, parent2 = self.selection(population, self.fit, self.trg)\n",
    "                child1, child2 = self.crossover(parent1, parent2)\n",
    "                new_population.append(self.mutation(child1))\n",
    "                new_population.append(self.mutation(child2))\n",
    "            population = new_population\n",
    "        "
   ]
  },
  {
   "cell_type": "markdown",
   "metadata": {},
   "source": [
    "### Test1"
   ]
  },
  {
   "cell_type": "code",
   "execution_count": 84,
   "metadata": {},
   "outputs": [
    {
     "name": "stdout",
     "output_type": "stream",
     "text": [
      "generacion 0 best individ: IQ:159; strong:60; high: 183\n",
      "generacion 1 best individ: IQ:159; strong:41; high: 183\n",
      "generacion 2 best individ: IQ:159; strong:40; high: 192\n",
      "generacion 3 best individ: IQ:141; strong:40; high: 191\n",
      "generacion 4 best individ: IQ:141; strong:44; high: 185\n",
      "generacion 5 best individ: IQ:139; strong:194; high: 199\n",
      "generacion 6 best individ: IQ:139; strong:194; high: 200\n",
      "generacion 7 best individ: IQ:163; strong:40; high: 186\n",
      "generacion 8 best individ: IQ:176; strong:194; high: 199\n",
      "generacion 9 best individ: IQ:176; strong:34; high: 199\n",
      "generacion 10 best individ: IQ:176; strong:34; high: 199\n",
      "generacion 11 best individ: IQ:176; strong:194; high: 199\n",
      "generacion 12 best individ: IQ:176; strong:194; high: 199\n",
      "generacion 13 best individ: IQ:176; strong:194; high: 199\n",
      "generacion 14 best individ: IQ:154; strong:194; high: 199\n",
      "generacion 15 best individ: IQ:154; strong:194; high: 199\n",
      "generacion 16 best individ: IQ:176; strong:194; high: 199\n",
      "generacion 17 best individ: IQ:176; strong:166; high: 199\n",
      "generacion 18 best individ: IQ:176; strong:166; high: 199\n",
      "generacion 19 best individ: IQ:176; strong:194; high: 199\n",
      "generacion 20 best individ: IQ:176; strong:34; high: 199\n",
      "generacion 21 best individ: IQ:176; strong:191; high: 199\n",
      "generacion 22 best individ: IQ:164; strong:194; high: 199\n",
      "generacion 23 best individ: IQ:157; strong:194; high: 199\n",
      "generacion 24 best individ: IQ:176; strong:194; high: 199\n",
      "generacion 25 best individ: IQ:176; strong:180; high: 199\n",
      "generacion 26 best individ: IQ:176; strong:180; high: 199\n",
      "generacion 27 best individ: IQ:176; strong:180; high: 199\n",
      "generacion 28 best individ: IQ:180; strong:170; high: 199\n",
      "generacion 29 best individ: IQ:181; strong:155; high: 199\n",
      "generacion 30 best individ: IQ:195; strong:178; high: 199\n",
      "generacion 31 best individ: IQ:155; strong:194; high: 200\n",
      "generacion 32 best individ: IQ:155; strong:194; high: 186\n",
      "generacion 33 best individ: IQ:155; strong:194; high: 178\n",
      "generacion 34 best individ: IQ:155; strong:194; high: 178\n",
      "generacion 35 best individ: IQ:142; strong:198; high: 195\n",
      "generacion 36 best individ: IQ:195; strong:155; high: 195\n",
      "generacion 37 best individ: IQ:138; strong:168; high: 186\n",
      "generacion 38 best individ: IQ:142; strong:168; high: 186\n",
      "generacion 39 best individ: IQ:178; strong:168; high: 186\n",
      "generacion 40 best individ: IQ:178; strong:183; high: 186\n",
      "generacion 41 best individ: IQ:178; strong:155; high: 186\n",
      "generacion 42 best individ: IQ:195; strong:190; high: 186\n",
      "generacion 43 best individ: IQ:195; strong:183; high: 186\n",
      "generacion 44 best individ: IQ:162; strong:168; high: 186\n",
      "generacion 45 best individ: IQ:195; strong:164; high: 198\n",
      "generacion 46 best individ: IQ:195; strong:164; high: 186\n",
      "generacion 47 best individ: IQ:165; strong:196; high: 186\n",
      "generacion 48 best individ: IQ:140; strong:197; high: 186\n",
      "generacion 49 best individ: IQ:140; strong:197; high: 186\n"
     ]
    }
   ],
   "source": [
    "test = Evalution(20, mutation, 50, Man(160, 100, 200), create_population, tourn_selecetion, crossover, fit)\n",
    "test.run()"
   ]
  }
 ],
 "metadata": {
  "kernelspec": {
   "display_name": "Python 3",
   "language": "python",
   "name": "python3"
  },
  "language_info": {
   "codemirror_mode": {
    "name": "ipython",
    "version": 3
   },
   "file_extension": ".py",
   "mimetype": "text/x-python",
   "name": "python",
   "nbconvert_exporter": "python",
   "pygments_lexer": "ipython3",
   "version": "3.12.3"
  }
 },
 "nbformat": 4,
 "nbformat_minor": 2
}
