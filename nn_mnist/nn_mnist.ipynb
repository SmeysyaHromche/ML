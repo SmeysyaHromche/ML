{
 "cells": [
  {
   "cell_type": "code",
   "execution_count": 93,
   "metadata": {},
   "outputs": [],
   "source": [
    "#importer\n",
    "import jsonschema\n",
    "import json\n",
    "import torch\n",
    "from torch.utils.data import DataLoader\n",
    "from torchvision import datasets, transforms\n",
    "import torch.nn as nn\n",
    "import torch.optim as optim\n",
    "from ValidJson import VALID_JSON\n",
    "\n",
    "DATASET_TRAIN_PATH = 'data/train'\n",
    "DATASET_TEST_PATH  = 'data/test'"
   ]
  },
  {
   "cell_type": "markdown",
   "metadata": {},
   "source": [
    "### Parsing configuration"
   ]
  },
  {
   "cell_type": "code",
   "execution_count": 94,
   "metadata": {},
   "outputs": [],
   "source": [
    "def parse_config(path:str)->dict:\n",
    "        with open(path, 'r') as file:\n",
    "            try:\n",
    "                config_schema = json.load(file)\n",
    "                jsonschema.validate(config_schema, VALID_JSON)\n",
    "                return config_schema\n",
    "            except FileNotFoundError:\n",
    "                print(\"Error! Configuration file is not exist.\")\n",
    "                exit(1)\n",
    "            except jsonschema.exceptions.ValidationError as err:\n",
    "                print(f\"Error! Invalid format of configuration file: {err}\")\n",
    "                exit(1)"
   ]
  },
  {
   "cell_type": "markdown",
   "metadata": {},
   "source": [
    "### Prepare data for learning"
   ]
  },
  {
   "cell_type": "code",
   "execution_count": 95,
   "metadata": {},
   "outputs": [],
   "source": [
    "def prepare_learn_data(config)->DataLoader:\n",
    "    transform = transforms.Compose(\n",
    "        [transforms.ToTensor(),\n",
    "        transforms.Normalize((0.1307), (0.3081))]\n",
    "    )#(0.1307), (0.3081)\n",
    "    train_loader = DataLoader(\n",
    "        dataset=datasets.MNIST(root=DATASET_TRAIN_PATH, train=True, transform=transform, download=True),\n",
    "        batch_size=config['nn_config']['batch_size'], \n",
    "        shuffle=True)\n",
    "    test_loader = DataLoader(\n",
    "        dataset=datasets.MNIST(root=DATASET_TEST_PATH, train=False, transform=transform, download=True),\n",
    "        batch_size=config['nn_config']['batch_size'],\n",
    "        shuffle=False)\n",
    "    return train_loader, test_loader "
   ]
  },
  {
   "cell_type": "code",
   "execution_count": 96,
   "metadata": {},
   "outputs": [],
   "source": [
    "### Model"
   ]
  },
  {
   "cell_type": "code",
   "execution_count": 97,
   "metadata": {},
   "outputs": [],
   "source": [
    "from typing import List, Tuple\n",
    "\n",
    "class NeuralNetwork(nn.Module):\n",
    "    def __init__(self, hidden_arr:List[Tuple[int, int]], act_f:str) -> None:\n",
    "        super().__init__()\n",
    "        self._HIDDEN_ARR = hidden_arr\n",
    "        self._activation = self._activation_decode(act_f)\n",
    "        self._body = self._generate_architecture()\n",
    "        \n",
    "        \n",
    "    def _activation_decode(self, act_f_str):\n",
    "            if act_f_str == 'identity':\n",
    "                return nn.Identity()\n",
    "            elif act_f_str == 'sig':\n",
    "                return nn.SiLU()\n",
    "            else:\n",
    "                return nn.ReLU()\n",
    "    \n",
    "    def _generate_architecture(self)->nn.ModuleList:\n",
    "        hidden = nn.ModuleList()\n",
    "        for hidden_layer in self._HIDDEN_ARR:\n",
    "           hidden.append(nn.Linear(hidden_layer[0], hidden_layer[1]))\n",
    "        return hidden\n",
    "\n",
    "    def forward(self, x):\n",
    "        x = x.view(-1, self._HIDDEN_ARR[0][0])  # Flatten the input\n",
    "        l = len(self._body)-1\n",
    "        for i, layer in enumerate(self._body):\n",
    "            x = layer(x)\n",
    "            if i != l:\n",
    "                x = self._activation(x)\n",
    "        return x"
   ]
  },
  {
   "cell_type": "markdown",
   "metadata": {},
   "source": [
    "### Learning process"
   ]
  },
  {
   "cell_type": "code",
   "execution_count": 98,
   "metadata": {},
   "outputs": [],
   "source": [
    "def train(device:torch.device, model:NeuralNetwork, config:dict, train_loader:DataLoader, criterion:nn.CrossEntropyLoss, optimizer:optim.Adam):\n",
    "    model.train()\n",
    "    for epoch in range(config['nn_config']['epochs']):\n",
    "        running_loss = 0.0\n",
    "        for batch_idx, (data, target) in enumerate(train_loader):\n",
    "            data, target = data.to(device), target.to(device) \n",
    "            output = model(data)\n",
    "            loss = criterion(output, target)\n",
    "            optimizer.zero_grad()\n",
    "            loss.backward()\n",
    "            optimizer.step()\n",
    "            running_loss += loss.item()\n",
    "            #if batch_idx % 100 == 0:\n",
    "            #    print(f'Epoch [{epoch+1}/{config['nn_config']['epochs']}], Step [{batch_idx+1}/{len(train_loader)}], Loss: {loss.item():.4f}')\n",
    "    \n",
    "        print(f'Epoch {epoch+1} finished with avg loss: {running_loss/len(train_loader):.4f}')\n",
    "\n",
    "def test(device: torch.device, model:NeuralNetwork, test_loader:DataLoader):\n",
    "        model.eval()\n",
    "        correct = 0\n",
    "        total = 0\n",
    "        with torch.no_grad():\n",
    "            for data, target in test_loader:\n",
    "                data, target = data.to(device), target.to(device)\n",
    "                outputs = model(data)\n",
    "                _, predicted = torch.max(outputs.data, 1)\n",
    "                total += target.size(0)\n",
    "                correct += (predicted == target).sum().item()\n",
    "        \n",
    "        accuracy = 100 * correct / total\n",
    "        print(f'Accuracy on test set: {accuracy:.2f}%')\n",
    "\n",
    "def learning(config):\n",
    "    device = torch.device(\"cuda\" if torch.cuda.is_available() else \"cpu\")\n",
    "    train_loader, test_loader = prepare_learn_data(config)\n",
    "    model = NeuralNetwork(config['nn_config']['hidden_arr'], config['nn_config']['act_f']).to(device)\n",
    "    criterion = nn.CrossEntropyLoss()\n",
    "    optimizer = optim.Adam(model.parameters(), lr=config['nn_config']['learning_rate'])\n",
    "    #return\n",
    "    train(device, model, config, train_loader, criterion, optimizer)\n",
    "    test(device, model, test_loader)"
   ]
  },
  {
   "cell_type": "markdown",
   "metadata": {},
   "source": [
    "### Test 1"
   ]
  },
  {
   "cell_type": "code",
   "execution_count": 99,
   "metadata": {},
   "outputs": [
    {
     "name": "stdout",
     "output_type": "stream",
     "text": [
      "Epoch 1 finished with avg loss: 0.2560\n",
      "Epoch 2 finished with avg loss: 0.1026\n",
      "Epoch 3 finished with avg loss: 0.0700\n",
      "Epoch 4 finished with avg loss: 0.0541\n",
      "Epoch 5 finished with avg loss: 0.0453\n",
      "Epoch 6 finished with avg loss: 0.0380\n",
      "Epoch 7 finished with avg loss: 0.0293\n",
      "Epoch 8 finished with avg loss: 0.0259\n",
      "Epoch 9 finished with avg loss: 0.0256\n",
      "Epoch 10 finished with avg loss: 0.0202\n",
      "Accuracy on test set: 97.50%\n"
     ]
    }
   ],
   "source": [
    "config = parse_config('config.json')\n",
    "learning(config)"
   ]
  }
 ],
 "metadata": {
  "kernelspec": {
   "display_name": "Python 3",
   "language": "python",
   "name": "python3"
  },
  "language_info": {
   "codemirror_mode": {
    "name": "ipython",
    "version": 3
   },
   "file_extension": ".py",
   "mimetype": "text/x-python",
   "name": "python",
   "nbconvert_exporter": "python",
   "pygments_lexer": "ipython3",
   "version": "3.12.3"
  }
 },
 "nbformat": 4,
 "nbformat_minor": 2
}
