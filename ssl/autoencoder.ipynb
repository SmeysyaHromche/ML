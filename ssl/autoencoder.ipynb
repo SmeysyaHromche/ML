{
 "cells": [
  {
   "cell_type": "markdown",
   "metadata": {},
   "source": [
    "# AutoEncoder"
   ]
  },
  {
   "cell_type": "code",
   "execution_count": 84,
   "metadata": {},
   "outputs": [],
   "source": [
    "# importer\n",
    "import os\n",
    "import sys\n",
    "import time\n",
    "import random\n",
    "import torch\n",
    "import torch.nn as nn\n",
    "import torchvision.transforms as T\n",
    "import pandas as pd\n",
    "import numpy as np\n",
    "import matplotlib.pyplot as plt\n",
    "from torch.optim import Adam\n",
    "from torch.utils.data import DataLoader\n",
    "from torchvision import datasets, models\n",
    "from typing import Tuple\n",
    "sys.path.append(os.path.abspath(\"..\"))\n",
    "from ml_utils import parse_config, vizualization, print_step"
   ]
  },
  {
   "cell_type": "markdown",
   "metadata": {},
   "source": [
    "### Scheme of valid json configuration"
   ]
  },
  {
   "cell_type": "code",
   "execution_count": 85,
   "metadata": {},
   "outputs": [],
   "source": [
    "VALID_JSON = {\n",
    "    \"data\":\n",
    "    {\n",
    "        \"type\":\"object\",\n",
    "        \"properties\":\n",
    "        {\n",
    "            \"dataset\":\n",
    "            {\n",
    "                \"type\":\"string\"\n",
    "            },\n",
    "            \"batch_size\":\n",
    "            {\n",
    "                \"type\":\"int\"\n",
    "            },\n",
    "            \"test_path\":\n",
    "            {\n",
    "                \"type\":\"string\"\n",
    "            },\n",
    "            \"train_path\":\n",
    "            {\n",
    "                \"type\":\"string\"\n",
    "            },\n",
    "            \"in_channels\":\n",
    "            {\n",
    "                \"type\":\"integer\"\n",
    "            },\n",
    "            \"buffer_channels\":\n",
    "            {\n",
    "                \"type\":\"integer\"\n",
    "            }\n",
    "        },\n",
    "        \"required\":[\"dataset\", \"batch_size\", \"test_path\", \"train_path\", \"in_channels\", \"buffer_channels\"]\n",
    "    },\n",
    "    \"hpr_prm\":\n",
    "    {\n",
    "        \"lr\":\n",
    "        {\n",
    "            \"type\":\"number\"\n",
    "        },\n",
    "        \"epochs\":\n",
    "        {\n",
    "            \"type\":\"int\"\n",
    "        },\n",
    "        \"required\":[\"lr\", \"epochs\"]\n",
    "    },\n",
    "    \"opt\":\n",
    "    {\n",
    "        \"type\":\"object\",\n",
    "        \"properties\":\n",
    "        {\n",
    "            \"displ\":\n",
    "            {\n",
    "                \"type\":\"object\",\n",
    "                \"properties\":\n",
    "                {\n",
    "                    \"flag\":\n",
    "                    {\n",
    "                        \"type\":\"boolean\"\n",
    "                    },\n",
    "                    \"step\":\n",
    "                    {\n",
    "                        \"type\":\"integer\"\n",
    "                    }\n",
    "                },\n",
    "                \"required\":[\"flag\", \"step\"]\n",
    "            },\n",
    "            \"store\":\n",
    "            {\n",
    "                \"type\":\"object\",\n",
    "                \"properties\":\n",
    "                {\n",
    "                    \"flag\":\n",
    "                    {\n",
    "                        \"type\":\"boolean\"\n",
    "                    },\n",
    "                    \"path\":\n",
    "                    {\n",
    "                        \"type\":\"string\"\n",
    "                    }\n",
    "                },\n",
    "                \"required\":[\"flag\", \"path\"]\n",
    "            },\n",
    "            \"load\":\n",
    "            {\n",
    "                \"type\":\"object\",\n",
    "                \"properties\":\n",
    "                {\n",
    "                    \"flag\":\n",
    "                    {\n",
    "                        \"type\":\"boolean\"\n",
    "                    },\n",
    "                    \"req_grad\":\n",
    "                    {\n",
    "                        \"type\":\"boolean\"\n",
    "                    },\n",
    "                    \"path\":\n",
    "                    {\n",
    "                        \"type\":\"string\"\n",
    "                    }\n",
    "                },\n",
    "                \"required\":[\"flag\", \"req_grad\", \"path\"]\n",
    "            }\n",
    "        },\n",
    "        \"required\":[\"displ\", \"store\", \"load\"]\n",
    "    },\n",
    "    \"required\":[\"data\", \"hpr_prm\", \"opt\"]   \n",
    "}"
   ]
  },
  {
   "cell_type": "markdown",
   "metadata": {},
   "source": [
    "### Work with data"
   ]
  },
  {
   "cell_type": "code",
   "execution_count": 86,
   "metadata": {},
   "outputs": [],
   "source": [
    "def get_dataset(train_path:str, test_path:str, batch_size:int)->Tuple[DataLoader, DataLoader]:\n",
    "    transforms = T.Compose(\n",
    "        [\n",
    "            T.ToTensor(),\n",
    "            T.Normalize(mean=[0.4914, 0.4822, 0.4465], std=[0.2470, 0.2435, 0.2616])\n",
    "        ]\n",
    "    )\n",
    "    train_loader = DataLoader(\n",
    "        dataset=datasets.CIFAR10(root=train_path, train=True, transform=transforms, download=True),\n",
    "        batch_size=batch_size,\n",
    "        shuffle=True\n",
    "    )\n",
    "    test_loader = DataLoader(\n",
    "        dataset=datasets.CIFAR10(root=test_path, train=False, transform=transforms, download=True),\n",
    "        batch_size=batch_size,\n",
    "        shuffle=False\n",
    "    )\n",
    "    return train_loader, test_loader"
   ]
  },
  {
   "cell_type": "markdown",
   "metadata": {},
   "source": [
    "### Autoencoder model (CNN)"
   ]
  },
  {
   "cell_type": "code",
   "execution_count": 87,
   "metadata": {},
   "outputs": [],
   "source": [
    "class FullConnected(nn.Module):\n",
    "    def __init__(self, data_size:int):\n",
    "        super().__init__()\n",
    "        self.l1 = nn.Linear(data_size, data_size)\n",
    "        self.act_1 = nn.ReLU()\n",
    "\n",
    "    def forward(self, x):\n",
    "        out = self.act_1(self.l1(x))\n",
    "        return out\n",
    "\n",
    "class Encoder(nn.Module):\n",
    "    def __init__(self, in_channels:int, out_channels:int):\n",
    "        super().__init__()\n",
    "        self.in_channels = in_channels\n",
    "        \n",
    "        self.conv_1 = nn.Conv2d(in_channels=in_channels, out_channels=16, kernel_size=3, padding=1)\n",
    "        self.batch_norm_1 = nn.BatchNorm2d(16)\n",
    "        self.act_1 = nn.ReLU()\n",
    "        self.max_pool_1 = nn.MaxPool2d(2, 2, return_indices=True)\n",
    "        \n",
    "        self.conv_2 = nn.Conv2d(in_channels=16, out_channels=32, kernel_size=3, padding=1)\n",
    "        self.batch_norm_2 = nn.BatchNorm2d(32)\n",
    "        self.act_2 = nn.ReLU()\n",
    "        self.max_pool_2 = nn.MaxPool2d(2, 2, return_indices=True)\n",
    "        \n",
    "        self.conv_3 = nn.Conv2d(in_channels=32, out_channels=out_channels, kernel_size=3, padding=1)\n",
    "        self.batch_norm_3 = nn.BatchNorm2d(out_channels)\n",
    "        self.act_3 = nn.ReLU()\n",
    "        self.max_pool_3 =nn.MaxPool2d(2, 2, return_indices=True)\n",
    "    def freezer(flag_freez:bool):\n",
    "        pass\n",
    "    def forward(self, x):\n",
    "        indices = []\n",
    "        out, ind = self.max_pool_1(self.act_1(self.batch_norm_1(self.conv_1(x))))\n",
    "        indices.append(ind)\n",
    "        out, ind = self.max_pool_2(self.act_2(self.batch_norm_2(self.conv_2(out))))\n",
    "        indices.append(ind)\n",
    "        out, ind = self.max_pool_3(self.act_3(self.batch_norm_3(self.conv_3(out))))\n",
    "        indices.append(ind)\n",
    "        return out, indices\n",
    "    \n",
    "class Decoder(nn.Module):\n",
    "    def __init__(self, in_channels:int, out_chanels:int):\n",
    "        super().__init__()\n",
    "        \n",
    "        self.un_pool_1 = nn.MaxUnpool2d(2, 2)\n",
    "        self.un_conv_1 = nn.ConvTranspose2d(in_channels=in_channels, out_channels=32, kernel_size=3, padding=1)\n",
    "        self.act_1 = nn.ReLU()\n",
    "        \n",
    "        self.un_pool_2 = nn.MaxUnpool2d(2, 2)\n",
    "        self.un_conv_2 = nn.ConvTranspose2d(in_channels=32, out_channels=16, kernel_size=3, padding=1)\n",
    "        self.act_2 = nn.ReLU()\n",
    "        \n",
    "        self.un_pool_3 = nn.MaxUnpool2d(2, 2)\n",
    "        self.un_conv_3 = nn.ConvTranspose2d(in_channels=16, out_channels=8, kernel_size=3, padding=1)\n",
    "        self.act_3 = nn.ReLU()\n",
    "        \n",
    "        self.un_conv_4 = nn.ConvTranspose2d(in_channels=8, out_channels=out_chanels, kernel_size=3, padding=1)\n",
    "        #self.sig_4 = nn.Sigmoid()\n",
    "        \n",
    "    def forward(self, x, indices):\n",
    "        out =self.act_1(self.un_conv_1(self.un_pool_1(x, indices[2])))\n",
    "        out = self.act_2(self.un_conv_2(self.un_pool_2(out, indices[1])))\n",
    "        out = self.act_3(self.un_conv_3(self.un_pool_3(out, indices[0])))\n",
    "        out = self.un_conv_4(out)\n",
    "        return out\n",
    "\n",
    "class AutoEncoder(nn.Module):\n",
    "    def __init__(self, in_channels:int, buffer_channels:int):\n",
    "        super().__init__()\n",
    "        self.in_channels = in_channels\n",
    "        self.buffer_channels = buffer_channels\n",
    "        \n",
    "        self.encoder = Encoder(in_channels=self.in_channels, out_channels=self.buffer_channels)\n",
    "        self.decoder = Decoder(in_channels=self.buffer_channels, out_chanels=self.in_channels)\n",
    "        #self.full_conn = FullConnected(data_size=1024)\n",
    "\n",
    "    def forward(self, x):\n",
    "        out_encode, indices = self.encoder(x)\n",
    "        #print(out_encode.size())\n",
    "        #out_encode = out_encode.view(-1, 1024)\n",
    "        #out_full_conn = self.full_conn(out_encode)\n",
    "        #out_full_conn = out_full_conn.view(-1, 64, 4, 4)\n",
    "        out_decode = self.decoder(out_encode, indices)\n",
    "        return out_decode  \n"
   ]
  },
  {
   "cell_type": "markdown",
   "metadata": {},
   "source": [
    "### Learning process of autoencoder"
   ]
  },
  {
   "cell_type": "code",
   "execution_count": 88,
   "metadata": {},
   "outputs": [],
   "source": [
    "def train_autoencoder(device:torch.device, model:nn.Module, optimizer:Adam, criterion, loader:DataLoader, epochs: int, displ_conf:dict)->None:\n",
    "    if displ_conf['flag']:\n",
    "        x_epoch = np.arange(0,epochs)\n",
    "        y_loss = np.zeros(epochs)\n",
    "    model.train()\n",
    "    for epoch in range(epochs):\n",
    "        running_loss = 0.0\n",
    "        loss = None\n",
    "        for data, _ in loader:\n",
    "            data = data.to(device)\n",
    "            output = model(data)\n",
    "            loss = criterion(output, data)\n",
    "            optimizer.zero_grad()\n",
    "            loss.backward()\n",
    "            optimizer.step()\n",
    "            running_loss += loss.item()\n",
    "        running_loss = running_loss/len(loader)\n",
    "        y_loss[epoch] = running_loss\n",
    "        if displ_conf['flag']and epoch % displ_conf['step'] == 0:\n",
    "            print(f'Epoch [{epoch}/{epochs}] finished with avg loss: {running_loss}')\n",
    "    if displ_conf['flag']:\n",
    "        vizualization(x=x_epoch, x_label='Epochs', y=y_loss, y_label='Loss', title='Loss throw epochs')\n"
   ]
  },
  {
   "cell_type": "code",
   "execution_count": 89,
   "metadata": {},
   "outputs": [],
   "source": [
    "def test_autoencoder(device:torch.device, model:nn.Module, criterion:nn.MSELoss, loader:DataLoader)->None:\n",
    "    model.eval()\n",
    "    batch_index = random.randint(0, len(loader)-1)\n",
    "    with torch.no_grad():\n",
    "        test_loss = 0.0\n",
    "        loss = 0.0\n",
    "        last_img = None\n",
    "        last_output = None\n",
    "        for i, (data, _) in enumerate(loader):\n",
    "            data = data.to(device)\n",
    "            output = model(data)\n",
    "            loss += criterion(output, data).item()\n",
    "            if i == (batch_index):\n",
    "                image_index = random.randint(0, len(data)-1)\n",
    "                last_image = data[image_index].cpu()\n",
    "                last_output = output[image_index].cpu()\n",
    "        test_loss = loss / len(loader)\n",
    "        print(f'Average loss in test time is : {test_loss}')\n",
    "        last_image = last_image.permute(1, 2, 0).numpy()\n",
    "        last_output = last_output.permute(1, 2, 0).numpy()\n",
    "\n",
    "        mean = torch.tensor([0.4914, 0.4822, 0.4465]).view(1, 1, 3)\n",
    "        std = torch.tensor([0.2470, 0.2435, 0.2616]).view(1, 1, 3)\n",
    "\n",
    "        last_image = last_image * std.numpy() + mean.numpy()\n",
    "        last_output = last_output * std.numpy() + mean.numpy()\n",
    "\n",
    "        last_image = last_image.clip(0, 1)\n",
    "        last_output = last_output.clip(0, 1)\n",
    "\n",
    "        plt.figure(figsize=(8, 4))\n",
    "        plt.subplot(1, 2, 1)\n",
    "        plt.title(\"Original Image\")\n",
    "        plt.imshow(last_image)\n",
    "        plt.axis('off')\n",
    "\n",
    "        plt.subplot(1, 2, 2)\n",
    "        plt.title(\"Reconstructed Image\")\n",
    "        plt.imshow(last_output)\n",
    "        plt.axis('off')\n",
    "\n",
    "        plt.show()\n",
    "        "
   ]
  },
  {
   "cell_type": "code",
   "execution_count": 90,
   "metadata": {},
   "outputs": [],
   "source": [
    "def learn_autoencoder(config:dict)->None:\n",
    "    torch.cuda.empty_cache()\n",
    "    device = torch.device('cuda' if torch.cuda.is_available() else 'cpu')\n",
    "    print(f'device :{device}')\n",
    "    print_step('DATA')\n",
    "    train_loader, test_loader = get_dataset(train_path=config['data']['train_path'],\n",
    "                                            test_path=config['data']['test_path'], \n",
    "                                            batch_size=config['data']['batch_size'])\n",
    "    print_step('MODEL')\n",
    "    model = AutoEncoder(in_channels=config['data']['in_channels'], buffer_channels=config['data']['buffer_channels']).to(device)\n",
    "    if config['opt']['load']['flag']:\n",
    "        model.load_state_dict(state_dict=config['opt']['load']['path'])\n",
    "    optimizer = Adam(params=model.parameters(), lr=config['hpr_prm']['lr'])\n",
    "    criterion = nn.MSELoss()\n",
    "    print_step('TRAIN')\n",
    "    train_autoencoder(device=device,\n",
    "          model=model, \n",
    "          optimizer=optimizer, \n",
    "          criterion=criterion, \n",
    "          loader=train_loader, \n",
    "          epochs=config['hpr_prm']['epochs'], \n",
    "          displ_conf=config['opt']['displ'])\n",
    "    print_step('TEST')\n",
    "    test_autoencoder(device=device, \n",
    "         model=model, \n",
    "         criterion=criterion, \n",
    "         loader=test_loader)\n",
    "    if config['opt']['store']['flag']:\n",
    "        torch.save(model.state_dict(), config['opt']['store']['path'])"
   ]
  },
  {
   "cell_type": "markdown",
   "metadata": {},
   "source": [
    "### Self-supervised pretrain"
   ]
  },
  {
   "cell_type": "code",
   "execution_count": 91,
   "metadata": {},
   "outputs": [
    {
     "name": "stdout",
     "output_type": "stream",
     "text": [
      "device :cuda\n",
      "=====================================================================\n",
      "\t\t\t DATA\n",
      "=====================================================================\n",
      "Files already downloaded and verified\n",
      "Files already downloaded and verified\n",
      "=====================================================================\n",
      "\t\t\t MODEL\n",
      "=====================================================================\n",
      "=====================================================================\n",
      "\t\t\t TRAIN\n",
      "=====================================================================\n",
      "Epoch [0/100] finished with avg loss: 0.1574167588635174\n",
      "Epoch [10/100] finished with avg loss: 0.040067894389028746\n",
      "Epoch [20/100] finished with avg loss: 0.033778219800585374\n",
      "Epoch [30/100] finished with avg loss: 0.031140130291909665\n",
      "Epoch [40/100] finished with avg loss: 0.029644929132212307\n",
      "Epoch [50/100] finished with avg loss: 0.028631064007082558\n",
      "Epoch [60/100] finished with avg loss: 0.02759987920703714\n",
      "Epoch [70/100] finished with avg loss: 0.026978898116999574\n",
      "Epoch [80/100] finished with avg loss: 0.026568166632919818\n",
      "Epoch [90/100] finished with avg loss: 0.025802978462137072\n"
     ]
    },
    {
     "data": {
      "image/png": "[encoded data removed]",
      "text/plain": [
       "<Figure size 640x480 with 1 Axes>"
      ]
     },
     "metadata": {},
     "output_type": "display_data"
    },
    {
     "name": "stdout",
     "output_type": "stream",
     "text": [
      "=====================================================================\n",
      "\t\t\t TEST\n",
      "=====================================================================\n",
      "Average loss in test time is : 0.023460576144658078\n"
     ]
    },
    {
     "data": {
      "image/png": "[encoded data removed]",
      "text/plain": [
       "<Figure size 800x400 with 2 Axes>"
      ]
     },
     "metadata": {},
     "output_type": "display_data"
    }
   ],
   "source": [
    "config = parse_config('config/config1.json', VALID_JSON)\n",
    "learn_autoencoder(config)"
   ]
  },
  {
   "cell_type": "markdown",
   "metadata": {},
   "source": [
    "### CNN classificator model with embedded self-supervised CNN autoencoder"
   ]
  },
  {
   "cell_type": "code",
   "execution_count": 151,
   "metadata": {},
   "outputs": [],
   "source": [
    "class Clasificator(nn.Module):\n",
    "    def __init__(self, req_grad:bool, encoder:Encoder):\n",
    "        super().__init__()\n",
    "        self.encoder = encoder\n",
    "        self.mixin = nn.Sequential(\n",
    "            nn.Linear(in_features=1024, out_features=2048),\n",
    "            nn.ReLU(),\n",
    "            nn.Linear(in_features=2048, out_features=4906),\n",
    "            nn.ReLU(),\n",
    "            nn.Linear(in_features=4906, out_features=10)\n",
    "        )\n",
    "        self.freez(req_grad)\n",
    "    \n",
    "    def freez(self, req_grad:bool):\n",
    "        print(f'Set req_grad for encoder on : {req_grad}')\n",
    "        for param in self.encoder.parameters():\n",
    "            param.requires_grad = req_grad\n",
    "        self.freez = req_grad\n",
    "    \n",
    "    def forward(self, x):\n",
    "        out_encode, _ = self.encoder(x)\n",
    "        out_encode = out_encode.view(-1, 1024)\n",
    "        out_encode = torch.flatten(out_encode, 1)\n",
    "        out = nn.LogSoftmax(dim=1)(self.mixin(out_encode))\n",
    "        #out = self.mixin(out_encode)\n",
    "        return out\n"
   ]
  },
  {
   "cell_type": "code",
   "execution_count": 152,
   "metadata": {},
   "outputs": [],
   "source": [
    "def train(device:torch.device, model:nn.Module, optimizer:Adam, criterion, loader:DataLoader, epochs: int, displ_conf:dict)->None:\n",
    "    if displ_conf['flag']:\n",
    "        x_epoch = np.arange(0,epochs)\n",
    "        y_loss = np.zeros(epochs)\n",
    "    model.train()\n",
    "    for epoch in range(epochs):\n",
    "        running_loss = 0.0\n",
    "        loss = None\n",
    "        for data, target in loader:\n",
    "            data, target = data.to(device), target.to(device)\n",
    "            output = model(data)\n",
    "            loss = criterion(output, target)\n",
    "            optimizer.zero_grad()\n",
    "            loss.backward()\n",
    "            optimizer.step()\n",
    "            running_loss += loss.item()\n",
    "        running_loss = running_loss/len(loader)\n",
    "        y_loss[epoch] = running_loss\n",
    "        if displ_conf['flag']and epoch % displ_conf['step'] == 0:\n",
    "            print(f'Epoch [{epoch}/{epochs}] finished with avg loss: {running_loss}')\n",
    "    if displ_conf['flag']:\n",
    "        vizualization(x=x_epoch, x_label='Epochs', y=y_loss, y_label='Loss', title='Loss throw epochs')\n"
   ]
  },
  {
   "cell_type": "code",
   "execution_count": 153,
   "metadata": {},
   "outputs": [],
   "source": [
    "def test(device:torch.device, model:nn.Module, loader:DataLoader)->None:\n",
    "    model.eval()\n",
    "    correct = 0\n",
    "    total = 0\n",
    "    with torch.no_grad():\n",
    "        for data, target in loader:\n",
    "            data, target = data.to(device), target.to(device)\n",
    "            outputs = model(data)\n",
    "            _, predicted = torch.max(outputs.data, 1)\n",
    "            total += target.size(0)\n",
    "            correct += (predicted == target).sum().item()\n",
    "    \n",
    "    accuracy = 100 * correct / total\n",
    "    print(f'Accuracy on test set: {accuracy:.2f}%')\n",
    "        "
   ]
  },
  {
   "cell_type": "code",
   "execution_count": 154,
   "metadata": {},
   "outputs": [],
   "source": [
    "def learn(config:dict):\n",
    "    torch.cuda.empty_cache()\n",
    "    device = torch.device('cuda' if torch.cuda.is_available() else 'cpu')\n",
    "    print(f'device : {device}')\n",
    "    print_step('DATA')\n",
    "    train_loader, test_loader = get_dataset(train_path=config['data']['train_path'], test_path=config['data']['test_path'], batch_size=config['data']['batch_size'])\n",
    "    print_step('LOAD EMBEDDEED ENCODER MODEL')\n",
    "    autoencoder = AutoEncoder(in_channels=config['data']['in_channels'], buffer_channels=config['data']['buffer_channels']).to(device)\n",
    "    if config['opt']['load']['flag']:\n",
    "      autoencoder.load_state_dict(torch.load(config['opt']['load']['path']))\n",
    "    encoder = autoencoder.encoder\n",
    "    print_step('BUILD MODEL')\n",
    "    model = Clasificator(req_grad=config['opt']['load']['req_grad'], encoder=encoder).to(device)\n",
    "    optimizer = Adam(params=filter(lambda p: p.requires_grad, model.parameters()), lr=config['hpr_prm']['lr'])\n",
    "    criterion = nn.CrossEntropyLoss()\n",
    "    print_step('TRAIN')\n",
    "    train(device=device,\n",
    "          model=model, \n",
    "          optimizer=optimizer, \n",
    "          criterion=criterion, \n",
    "          loader=train_loader, \n",
    "          epochs=config['hpr_prm']['epochs'], \n",
    "          displ_conf=config['opt']['displ'])\n",
    "    print_step('TEST')\n",
    "    test(device=device,\n",
    "         model=model,\n",
    "         loader=test_loader)\n",
    "    "
   ]
  },
  {
   "cell_type": "markdown",
   "metadata": {},
   "source": [
    "### Classification with pretrained data"
   ]
  },
  {
   "cell_type": "code",
   "execution_count": 156,
   "metadata": {},
   "outputs": [
    {
     "name": "stdout",
     "output_type": "stream",
     "text": [
      "device : cuda\n",
      "=====================================================================\n",
      "\t\t\t DATA\n",
      "=====================================================================\n",
      "Files already downloaded and verified\n",
      "Files already downloaded and verified\n",
      "=====================================================================\n",
      "\t\t\t LOAD EMBEDDEED ENCODER MODEL\n",
      "=====================================================================\n",
      "=====================================================================\n",
      "\t\t\t BUILD MODEL\n",
      "=====================================================================\n",
      "Set req_grad for encoder on : False\n"
     ]
    },
    {
     "name": "stderr",
     "output_type": "stream",
     "text": [
      "C:\\Users\\user\\AppData\\Local\\Temp\\ipykernel_8232\\2287305648.py:10: FutureWarning: You are using `torch.load` with `weights_only=False` (the current default value), which uses the default pickle module implicitly. It is possible to construct malicious pickle data which will execute arbitrary code during unpickling (See https://github.com/pytorch/pytorch/blob/main/SECURITY.md#untrusted-models for more details). In a future release, the default value for `weights_only` will be flipped to `True`. This limits the functions that could be executed during unpickling. Arbitrary objects will no longer be allowed to be loaded via this mode unless they are explicitly allowlisted by the user via `torch.serialization.add_safe_globals`. We recommend you start setting `weights_only=True` for any use case where you don't have full control of the loaded file. Please open an issue on GitHub for any issues related to this experimental feature.\n",
      "  autoencoder.load_state_dict(torch.load(config['opt']['load']['path']))\n"
     ]
    },
    {
     "name": "stdout",
     "output_type": "stream",
     "text": [
      "=====================================================================\n",
      "\t\t\t TRAIN\n",
      "=====================================================================\n",
      "Epoch [0/25] finished with avg loss: 1.2962338919072505\n",
      "Epoch [5/25] finished with avg loss: 0.6813195921728373\n",
      "Epoch [10/25] finished with avg loss: 0.2868193111303822\n",
      "Epoch [15/25] finished with avg loss: 0.13367495443100286\n",
      "Epoch [20/25] finished with avg loss: 0.09072234673881689\n"
     ]
    },
    {
     "data": {
      "image/png": "[encoded data removed]",
      "text/plain": [
       "<Figure size 640x480 with 1 Axes>"
      ]
     },
     "metadata": {},
     "output_type": "display_data"
    },
    {
     "name": "stdout",
     "output_type": "stream",
     "text": [
      "=====================================================================\n",
      "\t\t\t TEST\n",
      "=====================================================================\n",
      "Accuracy on test set: 67.04%\n"
     ]
    }
   ],
   "source": [
    "config = parse_config('config/config2.json', VALID_JSON)\n",
    "learn(config=config)"
   ]
  },
  {
   "cell_type": "markdown",
   "metadata": {},
   "source": [
    "### Classification without pretrained data"
   ]
  },
  {
   "cell_type": "code",
   "execution_count": 158,
   "metadata": {},
   "outputs": [
    {
     "name": "stdout",
     "output_type": "stream",
     "text": [
      "device : cuda\n",
      "=====================================================================\n",
      "\t\t\t DATA\n",
      "=====================================================================\n",
      "Files already downloaded and verified\n",
      "Files already downloaded and verified\n",
      "=====================================================================\n",
      "\t\t\t LOAD EMBEDDEED ENCODER MODEL\n",
      "=====================================================================\n",
      "=====================================================================\n",
      "\t\t\t BUILD MODEL\n",
      "=====================================================================\n",
      "Set req_grad for encoder on : True\n",
      "=====================================================================\n",
      "\t\t\t TRAIN\n",
      "=====================================================================\n",
      "Epoch [0/25] finished with avg loss: 1.3061781937204053\n",
      "Epoch [5/25] finished with avg loss: 0.5677912461254603\n",
      "Epoch [10/25] finished with avg loss: 0.3420042115385118\n",
      "Epoch [15/25] finished with avg loss: 0.2014637202467493\n",
      "Epoch [20/25] finished with avg loss: 0.13418878282389374\n"
     ]
    },
    {
     "data": {
      "image/png": "[encoded data removed]",
      "text/plain": [
       "<Figure size 640x480 with 1 Axes>"
      ]
     },
     "metadata": {},
     "output_type": "display_data"
    },
    {
     "name": "stdout",
     "output_type": "stream",
     "text": [
      "=====================================================================\n",
      "\t\t\t TEST\n",
      "=====================================================================\n",
      "Accuracy on test set: 74.26%\n"
     ]
    }
   ],
   "source": [
    "config = parse_config('config/config3.json', VALID_JSON)\n",
    "learn(config=config)"
   ]
  }
 ],
 "metadata": {
  "kernelspec": {
   "display_name": "Python 3",
   "language": "python",
   "name": "python3"
  },
  "language_info": {
   "codemirror_mode": {
    "name": "ipython",
    "version": 3
   },
   "file_extension": ".py",
   "mimetype": "text/x-python",
   "name": "python",
   "nbconvert_exporter": "python",
   "pygments_lexer": "ipython3",
   "version": "3.12.3"
  }
 },
 "nbformat": 4,
 "nbformat_minor": 2
}
