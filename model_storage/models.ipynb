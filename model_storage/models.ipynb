{
 "cells": [
  {
   "cell_type": "code",
   "execution_count": null,
   "metadata": {
    "vscode": {
     "languageId": "plaintext"
    }
   },
   "outputs": [],
   "source": [
    "'''class DoubleConv(nn.Module):\n",
    "    def __init__(self, in_channels:int, out_channels:int):\n",
    "        super().__init__()\n",
    "        self.doubl_conv = nn.Sequential(\n",
    "            nn.Conv2d(in_channels, out_channels, kernel_size=3, padding=1),\n",
    "            nn.BatchNorm2d(out_channels),\n",
    "            nn.ReLU(), #inplace=True\n",
    "            nn.Conv2d(out_channels, out_channels, kernel_size=3, padding=1),\n",
    "            nn.BatchNorm2d(out_channels),\n",
    "            nn.ReLU()\n",
    "        )\n",
    "    def forward(self, x):\n",
    "        return self.doubl_conv(x)\n",
    "class UNetAutoencoder(nn.Module):\n",
    "    def __init__(self, in_channels, latent_dim):  #latent_dim : 1024\n",
    "        super().__init__()\n",
    "        print(f'{in_channels}, {latent_dim}')\n",
    "        self.autoencoder = nn.Sequential(\n",
    "            DoubleConv(in_channels, 64),\n",
    "            DoubleConv(64, 128),\n",
    "            DoubleConv(128, 256),\n",
    "            DoubleConv(256, 512),\n",
    "            DoubleConv(512, latent_dim),  \n",
    "            nn.MaxPool2d(kernel_size=2, stride=2),    \n",
    "            nn.ConvTranspose2d(latent_dim, 512, kernel_size=2, stride=2),\n",
    "            DoubleConv(512, 512),\n",
    "            nn.ConvTranspose2d(512, 256, kernel_size=2, stride=2),\n",
    "            DoubleConv(256, 256),\n",
    "            nn.ConvTranspose2d(256, 128, kernel_size=2, stride=2),\n",
    "            DoubleConv(128, 128),\n",
    "            nn.ConvTranspose2d(128, 64, kernel_size=2, stride=2),\n",
    "            DoubleConv(64, 64),\n",
    "            nn.Conv2d(64, in_channels, kernel_size=1)\n",
    "        )\n",
    "        # Encoder (downsampling)\n",
    "        self.down1 = DoubleConv(in_channels, 64)\n",
    "        self.down2 = DoubleConv(64, 128)\n",
    "        self.down3 = DoubleConv(128, 256)\n",
    "        self.down4 = DoubleConv(256, 512)\n",
    "        self.down5 = DoubleConv(512, latent_dim)  # латентное представление\n",
    "\n",
    "    def forward(self, x):\n",
    "        return self.autoencoder(x)\n",
    "'''\n"
   ]
  }
 ],
 "metadata": {
  "language_info": {
   "name": "python"
  }
 },
 "nbformat": 4,
 "nbformat_minor": 2
}
