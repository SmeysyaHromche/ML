{
 "cells": [
  {
   "cell_type": "markdown",
   "metadata": {},
   "source": [
    "### LSTM"
   ]
  },
  {
   "cell_type": "code",
   "execution_count": null,
   "metadata": {},
   "outputs": [],
   "source": [
    "# importer\n",
    "import yfinance as yfin\n",
    "import torch\n",
    "import matplotlib.pyplot as plt\n",
    "import numpy as np\n",
    "import sys\n",
    "import os\n",
    "sys.path.append(os.path.abspath(\"..\"))\n",
    "from torch.nn import Module, Linear\n",
    "from torch.optim import Adam\n",
    "from ml_utils import parse_config, vizualization"
   ]
  },
  {
   "cell_type": "code",
   "execution_count": null,
   "metadata": {},
   "outputs": [],
   "source": [
    "VALID_JSON={\n",
    "    \"data\":\n",
    "    {\n",
    "        \"type\":\"object\",\n",
    "        \"properties\":\n",
    "        {\n",
    "            \"ticker\":\n",
    "            {\n",
    "                \"type\":\"string\"\n",
    "            },\n",
    "            \"start_date\":\n",
    "            {\n",
    "                \"type\":int\n",
    "            },\n",
    "            \"end_date\":\n",
    "            {\n",
    "                \"type\":int\n",
    "            }\n",
    "        },\n",
    "        \"required\":[\"ticker\", \"start_date\", \"end_date\"]\n",
    "    },\n",
    "    \"hpr_prm\":\n",
    "    {\n",
    "        \"type\":\"object\",\n",
    "        \"properties\":\n",
    "        {\n",
    "            \"lr\":\n",
    "            {\n",
    "                \"type\":\"number\",\n",
    "                \"minimum\":0.000001,\n",
    "                \"maximum\":1.0\n",
    "            },\n",
    "            \"act_f\":\n",
    "            {\n",
    "                \"type\":\"string\",\n",
    "                \"enum\":[\"sig\", \"tanh\", \"silu\", \"relu\",\"identity\"]\n",
    "            },\n",
    "            \"hidden_size\":\n",
    "            {\n",
    "                \"type\":\"number\"\n",
    "            },\n",
    "            \"num_layers\":\n",
    "            {\n",
    "                \"type\":\"number\"\n",
    "            },\n",
    "            \"epochs\":\n",
    "            {\n",
    "                \"type\":\"integer\"\n",
    "            },\n",
    "            \"seq_len\":\n",
    "            {\n",
    "                \"type\":\"integer\"\n",
    "            }\n",
    "        },\n",
    "        \"required\":[\"act_f\", \"epochs\", \"lr\", \"hidden_size\", \"num_layers\",\"seq_len\"]\n",
    "    },\n",
    "    \"required\":[\"data\", \"hpr_prm\"]\n",
    "}"
   ]
  },
  {
   "cell_type": "code",
   "execution_count": null,
   "metadata": {},
   "outputs": [],
   "source": [
    "class LSTM(Module):\n",
    "    def __init__(self):\n",
    "        super().__init__()\n",
    "    \n",
    "    def forward(self, x):\n",
    "        out = x\n",
    "        return out"
   ]
  },
  {
   "cell_type": "code",
   "execution_count": null,
   "metadata": {},
   "outputs": [],
   "source": [
    "def create_data(ticker, start_date, end_date):\n",
    "    df = yfin.download(ticker, start_date, end_date)\n",
    "    return df['Close'].values.reshape(-1, 1)\n",
    "\n",
    "def create_dataset(data, seq_len):\n",
    "    X = []\n",
    "    y = []\n",
    "    for i in range(len(data)-seq_len):\n",
    "        X = data[i:i+seq_len]\n",
    "        Y = data[i+seq_len:i+seq_len+1]\n",
    "    return X, y\n"
   ]
  },
  {
   "cell_type": "code",
   "execution_count": null,
   "metadata": {},
   "outputs": [],
   "source": [
    "def train():\n",
    "    pass\n",
    "\n",
    "def test():\n",
    "    pass\n",
    "\n",
    "\n",
    "\n",
    "def learn(config):\n",
    "    data = create_data(config['data']['ticker'].upper(), config['data']['start_date'], config['data']['end_date'])\n",
    "    X, y = create_dataset(data, config['data'])"
   ]
  }
 ],
 "metadata": {
  "kernelspec": {
   "display_name": "Python 3",
   "language": "python",
   "name": "python3"
  },
  "language_info": {
   "name": "python",
   "version": "3.12.3"
  }
 },
 "nbformat": 4,
 "nbformat_minor": 2
}
