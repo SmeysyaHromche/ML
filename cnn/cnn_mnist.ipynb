{
 "cells": [
  {
   "cell_type": "markdown",
   "metadata": {},
   "source": [
    "### Convolution neural networks"
   ]
  },
  {
   "cell_type": "code",
   "execution_count": 93,
   "metadata": {},
   "outputs": [],
   "source": [
    "# importer\n",
    "import torch\n",
    "import numpy as np\n",
    "import sys\n",
    "import os\n",
    "from torch.nn import Module, Conv2d, Linear, AvgPool2d, Sigmoid, LogSoftmax, CrossEntropyLoss, MaxPool2d\n",
    "from torch.optim import Adam\n",
    "from torch import flatten\n",
    "from torch.utils.data import DataLoader\n",
    "from torchvision import datasets, transforms\n",
    "sys.path.append(os.path.abspath(\"..\"))\n",
    "from ml_utils import vizualization, parse_config, activation_decode"
   ]
  },
  {
   "cell_type": "code",
   "execution_count": 94,
   "metadata": {},
   "outputs": [],
   "source": [
    "VALID_JSON={\n",
    "    \"nn_config\":\n",
    "    {\n",
    "        \"type\":\"object\",\n",
    "        \"properties\":\n",
    "        {\n",
    "            \"chanels\":\n",
    "            {\n",
    "                \"type\":\"integer\",\n",
    "                \"enun\":[1, 3]\n",
    "            },\n",
    "            \"class_cnt\":\n",
    "            {\n",
    "                \"type\":\"integer\"\n",
    "            },\n",
    "            \"test_run\":\n",
    "            {\n",
    "                \"type\":\"bool\"\n",
    "            },\n",
    "            \"act_f\":\n",
    "            {\n",
    "                \"type\":\"string\",\n",
    "                \"enum\":[\"sig\", \"silu\", \"relu\",\"identity\"]\n",
    "            },\n",
    "            \"lr\":\n",
    "            {\n",
    "                \"type\":\"number\",\n",
    "                \"maximum\":1.0\n",
    "            },\n",
    "            \"architecture\":\n",
    "            {\n",
    "                \"type\":\"string\",\n",
    "                \"enum\":[\"lenet\", \"alexnet\"]\n",
    "            },\n",
    "            \"epochs\":\n",
    "            {\n",
    "                \"type\":\"integer\",\n",
    "                \"minimum\":10\n",
    "            },\n",
    "            \"batch_size\":\n",
    "            {\n",
    "                \"type\":\"integer\",\n",
    "                \"minimum\":10\n",
    "            }\n",
    "        },\n",
    "        \"required\":[\"architecture\", \"epochs\", \"batch_size\", \"lr\", \"test_run\", \"chanels\", \"class_cnt\"]\n",
    "    },\n",
    "    \"data\":\n",
    "    {\n",
    "        \"type\":\"object\",\n",
    "        \"properties\":\n",
    "        {\n",
    "            \"x_normal\":\n",
    "            {\n",
    "                \"type\":\"number\",\n",
    "                \"minimum\":0.001,\n",
    "                \"maximum\":1.0\n",
    "            },\n",
    "            \"y_norm\":\n",
    "            {\n",
    "                \"type\":\"number\",\n",
    "                \"minimum\":0.001,\n",
    "                \"maximum\":1.0\n",
    "            },\n",
    "            \"dataset\":\n",
    "            {\n",
    "                \"type\":\n",
    "                {\n",
    "                    \"string\"\n",
    "                },\n",
    "                \"enum\":[\"MNIST\", \"CIFAR10\"]\n",
    "            }\n",
    "        }\n",
    "    }\n",
    "}"
   ]
  },
  {
   "cell_type": "code",
   "execution_count": 95,
   "metadata": {},
   "outputs": [],
   "source": [
    "class LeNet(Module):\n",
    "    def __init__(self, act_f_str:str) -> None:\n",
    "        super().__init__()\n",
    "        self.conv_l_1 = Conv2d(in_channels=1, out_channels=6, kernel_size=5)\n",
    "        self.act_1 = activation_decode(act_f_str)\n",
    "        self.avg_pool_1 = AvgPool2d(kernel_size=2, stride=2)\n",
    "        self.conv_l_2 = Conv2d(in_channels=6, out_channels=16, kernel_size=5)\n",
    "        self.act_2 = activation_decode(act_f_str)\n",
    "        self.avg_pool_2 = AvgPool2d(kernel_size=2, stride=2)\n",
    "        self.fullCon1 = Linear(in_features=16*4*4, out_features=120)\n",
    "        self.act_3 = activation_decode(act_f_str)\n",
    "        self.fullCon2 = Linear(in_features=120, out_features=84)\n",
    "        self.act_4 = activation_decode(act_f_str)\n",
    "        self.fullCon3 = Linear(in_features=84, out_features=10)\n",
    "    \n",
    "    def forward(self, x):\n",
    "        # conv and pool\n",
    "        x = self.avg_pool_1(self.act_1(self.conv_l_1(x)))\n",
    "        x = self.avg_pool_2(self.act_2(self.conv_l_2(x)))\n",
    "        \n",
    "        # transform\n",
    "        x = flatten(x, 1)\n",
    "\n",
    "        # full connection\n",
    "        return LogSoftmax(dim=1)(self.fullCon3(self.act_4(self.fullCon2(self.act_3(self.fullCon1(x))))))\n",
    "\n",
    "class AlexNet(Module):\n",
    "    def __init__(self, act_f_str:str, chanels:int, class_cnt:int) -> None:\n",
    "        super().__init__()\n",
    "        self.conv_l_1 = Conv2d(in_channels=chanels, out_channels=96, kernel_size=4, stride=4)\n",
    "        self.act_1 = activation_decode(act_f_str)\n",
    "        self.max_pool_1 = MaxPool2d(kernel_size=3, stride=2)\n",
    "        self.conv_l_2 = Conv2d(in_channels=96, out_channels=256, kernel_size=5, padding=2)\n",
    "        self.act_2 = activation_decode(act_f_str)\n",
    "        self.max_pool_2 = MaxPool2d(kernel_size=3, stride=2)\n",
    "        self.conv_l_3 = Conv2d(in_channels=256, out_channels=384, kernel_size=3, padding=1)\n",
    "        self.act_3 = activation_decode(act_f_str)\n",
    "        self.conv_l_4 = Conv2d(in_channels=384, out_channels=384, kernel_size=3, padding=1)\n",
    "        self.act_4 = activation_decode(act_f_str)\n",
    "        self.conv_l_5 = Conv2d(in_channels=384, out_channels=256, kernel_size=3, padding=1)\n",
    "        self.act_5 = activation_decode(act_f_str)\n",
    "        self.max_pool_3 = MaxPool2d(kernel_size=3, stride=2)\n",
    "        self.full_con_l_1 = Linear(in_features=256*6*6, out_features=4906)\n",
    "        self.act_6 = activation_decode(act_f_str)\n",
    "        self.full_con_l_2 = Linear(in_features=4906, out_features=4906)\n",
    "        self.act_7 = activation_decode(act_f_str)\n",
    "        self.full_con_l_3 = Linear(in_features=4906, out_features=class_cnt)\n",
    "\n",
    "    def forward(self, x):\n",
    "        # conv and pool\n",
    "        x = self.max_pool_1(self.act_1(self.conv_l_1(x)))\n",
    "        x = self.max_pool_2(self.act_2(self.conv_l_2(x)))\n",
    "        x = self.max_pool_3(self.act_5(self.conv_l_5(self.act_4(self.conv_l_4(self.act_3(self.conv_l_3(x)))))))\n",
    "        # transform\n",
    "        x = flatten(x, 1)\n",
    "        # full conected\n",
    "        return LogSoftmax(dim=1)(self.full_con_l_3(self.act_7(self.full_con_l_2(self.act_6(self.full_con_l_1(x))))))"
   ]
  },
  {
   "cell_type": "markdown",
   "metadata": {},
   "source": [
    "### Prepare data for learning"
   ]
  },
  {
   "cell_type": "code",
   "execution_count": 96,
   "metadata": {},
   "outputs": [],
   "source": [
    "def get_data(config:dict, datasrc:object, train_path:str, test_path:str, alex_net:bool):\n",
    "    def data_transform(alex_net:bool):\n",
    "        return [\n",
    "        transforms.Resize(224),\n",
    "        transforms.ToTensor(),\n",
    "        transforms.Normalize((config['data']['x_norm']), (config['data']['y_norm']))] if alex_net else [\n",
    "        transforms.ToTensor(),\n",
    "        transforms.Normalize((config['data']['x_norm']), (config['data']['y_norm']))\n",
    "        ]\n",
    "    transform = transforms.Compose(data_transform(alex_net))#(0.1307), (0.3081)\n",
    "    return  DataLoader(\n",
    "        dataset=datasrc(root=train_path, train=True, transform=transform, download=True),\n",
    "        batch_size=config['nn_config']['batch_size'], \n",
    "        shuffle=True,\n",
    "        num_workers=4), DataLoader(\n",
    "        dataset=datasrc(root=test_path, train=False, transform=transform, download=True),\n",
    "        batch_size=config['nn_config']['batch_size'], \n",
    "        shuffle=True,\n",
    "        num_workers=4)\n",
    "\n",
    "def get_dataset_src(dataset_src_name:str):\n",
    "    if dataset_src_name == 'MNIST': return datasets.MNIST\n",
    "    else : return datasets.CIFAR10"
   ]
  },
  {
   "cell_type": "code",
   "execution_count": 97,
   "metadata": {},
   "outputs": [],
   "source": [
    "def train(device:torch.device, model:object, config:dict, train_loader:DataLoader, criterion:CrossEntropyLoss, optimizer:Adam, test_run:bool):\n",
    "    model.train()\n",
    "    x_epoch = np.arange(0, 1 if test_run else config['nn_config']['epochs'])\n",
    "    y_loss = np.zeros(1 if test_run else config['nn_config']['epochs'])\n",
    "\n",
    "    for epoch in range(1 if test_run else config['nn_config']['epochs']):\n",
    "        running_loss = 0.0\n",
    "        loss = None\n",
    "        for (data, target) in train_loader:\n",
    "            data, target = data.to(device), target.to(device)\n",
    "            output = model(data)\n",
    "            loss = criterion(output, target)\n",
    "            optimizer.zero_grad()\n",
    "            loss.backward()\n",
    "            optimizer.step()\n",
    "            running_loss += loss.item()\n",
    "            if test_run:\n",
    "                break\n",
    "        y_loss[epoch] = running_loss/len(train_loader)\n",
    "        print(f'Epoch {epoch+1} finished with avg loss: {running_loss/len(train_loader):.4f}')\n",
    "    if not test_run:\n",
    "        vizualization(x_epoch, 'epochs', y_loss, 'loss', 'loss over epochs')\n",
    "\n",
    "def test(device:torch.device, model:object, test_loader:DataLoader):\n",
    "    model.eval()\n",
    "    correct = 0\n",
    "    total = 0\n",
    "    with torch.no_grad():\n",
    "        for data, target in test_loader:\n",
    "            data, target = data.to(device), target.to(device)\n",
    "            outputs = model(data)\n",
    "            _, predict = torch.max(outputs.data, 1)\n",
    "            total += target.size(0)\n",
    "            correct += (predict==target).sum().item()\n",
    "    accuracy = 100 * correct / total\n",
    "    print(f'Accuracy on test set: {accuracy:.2f}%')\n",
    "\n",
    "\n",
    "def learn(config:dict, data_path:str='data')->None:\n",
    "    device = torch.device(\"cuda\" if torch.cuda.is_available() else \"cpu\")\n",
    "    print(device)\n",
    "    train_loader, test_loader = get_data(config, get_dataset_src(config['data']['dataset']), f'{data_path}/train', f'{data_path}/test', config['nn_config']['architecture']=='alexnet')\n",
    "    model = LeNet(config['nn_config']['act_f']).to(device) if config['nn_config']['architecture'] == 'lenet' else AlexNet(config['nn_config']['act_f'],config['nn_config']['chanels'], config['nn_config']['class_cnt']).to(device)\n",
    "    criterion = CrossEntropyLoss()\n",
    "    optimizer = Adam(model.parameters(), config['nn_config']['lr'])\n",
    "    train(device, model, config, train_loader, criterion, optimizer, config['nn_config']['test_run'])\n",
    "    if not config['nn_config']['test_run']:\n",
    "        test(device, model, test_loader)"
   ]
  },
  {
   "cell_type": "markdown",
   "metadata": {},
   "source": [
    "### Test 1\n",
    "With LeNet for MNIST classification with Sigmoid activation function"
   ]
  },
  {
   "cell_type": "code",
   "execution_count": 98,
   "metadata": {},
   "outputs": [
    {
     "name": "stdout",
     "output_type": "stream",
     "text": [
      "cuda\n",
      "Epoch 1 finished with avg loss: 0.0014\n"
     ]
    }
   ],
   "source": [
    "config = parse_config('config/config1.json', VALID_JSON)\n",
    "learn(config)"
   ]
  },
  {
   "cell_type": "markdown",
   "metadata": {},
   "source": [
    "### Test 2\n",
    "With LeNet for MNIST classification with ReLU activation function"
   ]
  },
  {
   "cell_type": "code",
   "execution_count": 99,
   "metadata": {},
   "outputs": [
    {
     "name": "stdout",
     "output_type": "stream",
     "text": [
      "cuda\n",
      "Epoch 1 finished with avg loss: 0.0013\n"
     ]
    }
   ],
   "source": [
    "config = parse_config('config/config2.json', VALID_JSON)\n",
    "learn(config)"
   ]
  },
  {
   "cell_type": "markdown",
   "metadata": {},
   "source": [
    "### Test 3\n",
    "With AlexNet for MNIST classification with Sigmoid activation fucntion"
   ]
  },
  {
   "cell_type": "code",
   "execution_count": 100,
   "metadata": {},
   "outputs": [
    {
     "name": "stdout",
     "output_type": "stream",
     "text": [
      "cuda\n",
      "Epoch 1 finished with avg loss: 0.0014\n"
     ]
    }
   ],
   "source": [
    "config = parse_config('config/config3.json', VALID_JSON)\n",
    "learn(config)"
   ]
  },
  {
   "cell_type": "markdown",
   "metadata": {},
   "source": [
    "### Test 4\n",
    "With AlexNet for MNIST classification with ReLU activation fucntion"
   ]
  },
  {
   "cell_type": "code",
   "execution_count": 101,
   "metadata": {},
   "outputs": [
    {
     "name": "stdout",
     "output_type": "stream",
     "text": [
      "cuda\n",
      "Epoch 1 finished with avg loss: 0.0013\n"
     ]
    }
   ],
   "source": [
    "config = parse_config('config/config4.json', VALID_JSON)\n",
    "learn(config)"
   ]
  },
  {
   "cell_type": "markdown",
   "metadata": {},
   "source": [
    "### Test 5\n",
    "With AlexNet for CIFAR10 classification with ReLU activation function"
   ]
  },
  {
   "cell_type": "code",
   "execution_count": 102,
   "metadata": {},
   "outputs": [
    {
     "name": "stdout",
     "output_type": "stream",
     "text": [
      "cuda\n",
      "Downloading https://www.cs.toronto.edu/~kriz/cifar-10-python.tar.gz to data1/train\\cifar-10-python.tar.gz\n"
     ]
    },
    {
     "name": "stderr",
     "output_type": "stream",
     "text": [
      "100.0%\n"
     ]
    },
    {
     "name": "stdout",
     "output_type": "stream",
     "text": [
      "Extracting data1/train\\cifar-10-python.tar.gz to data1/train\n",
      "Downloading https://www.cs.toronto.edu/~kriz/cifar-10-python.tar.gz to data1/test\\cifar-10-python.tar.gz\n"
     ]
    },
    {
     "name": "stderr",
     "output_type": "stream",
     "text": [
      "100.0%\n"
     ]
    },
    {
     "name": "stdout",
     "output_type": "stream",
     "text": [
      "Extracting data1/test\\cifar-10-python.tar.gz to data1/test\n",
      "Epoch 1 finished with avg loss: 0.0016\n"
     ]
    }
   ],
   "source": [
    "config = parse_config('config/config5.json', VALID_JSON)\n",
    "learn(config, 'data1')"
   ]
  }
 ],
 "metadata": {
  "kernelspec": {
   "display_name": "Python 3",
   "language": "python",
   "name": "python3"
  },
  "language_info": {
   "codemirror_mode": {
    "name": "ipython",
    "version": 3
   },
   "file_extension": ".py",
   "mimetype": "text/x-python",
   "name": "python",
   "nbconvert_exporter": "python",
   "pygments_lexer": "ipython3",
   "version": "3.12.3"
  }
 },
 "nbformat": 4,
 "nbformat_minor": 2
}
